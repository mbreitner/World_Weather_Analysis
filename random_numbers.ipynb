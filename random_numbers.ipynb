{
 "cells": [
  {
   "cell_type": "code",
   "execution_count": 1,
   "id": "224f0f28",
   "metadata": {},
   "outputs": [],
   "source": [
    "# Import the random module.\n",
    "import random"
   ]
  },
  {
   "cell_type": "code",
   "execution_count": 3,
   "id": "8db84438",
   "metadata": {},
   "outputs": [
    {
     "data": {
      "text/plain": [
       "78"
      ]
     },
     "execution_count": 3,
     "metadata": {},
     "output_type": "execute_result"
    }
   ],
   "source": [
    "random.randint(-90, 90)"
   ]
  },
  {
   "cell_type": "code",
   "execution_count": 4,
   "id": "a1539eca",
   "metadata": {},
   "outputs": [
    {
     "data": {
      "text/plain": [
       "0.33710475512258375"
      ]
     },
     "execution_count": 4,
     "metadata": {},
     "output_type": "execute_result"
    }
   ],
   "source": [
    "random.random()"
   ]
  },
  {
   "cell_type": "code",
   "execution_count": 5,
   "id": "6dfc51fe",
   "metadata": {},
   "outputs": [
    {
     "data": {
      "text/plain": [
       "-83.65826558732478"
      ]
     },
     "execution_count": 5,
     "metadata": {},
     "output_type": "execute_result"
    }
   ],
   "source": [
    "random_number = random.randint(-90, 89) + random.random()\n",
    "random_number"
   ]
  },
  {
   "cell_type": "code",
   "execution_count": 7,
   "id": "83099bf9",
   "metadata": {
    "scrolled": true
   },
   "outputs": [
    {
     "data": {
      "text/plain": [
       "[53.911374282381644,\n",
       " -51.763891253034934,\n",
       " 60.67956766167293,\n",
       " 69.99043853003673,\n",
       " 8.867029675375155,\n",
       " 53.56839327438766,\n",
       " -36.27066147612245,\n",
       " 74.3719642064578,\n",
       " -39.51580420369399,\n",
       " 10.676561792441506]"
      ]
     },
     "execution_count": 7,
     "metadata": {},
     "output_type": "execute_result"
    }
   ],
   "source": [
    "x = 1\n",
    "latitudes = []\n",
    "while x < 11:\n",
    "    random_lat = random.randint(-90, 89) + random.random()\n",
    "    latitudes.append(random_lat)\n",
    "    x += 1\n",
    "latitudes"
   ]
  },
  {
   "cell_type": "code",
   "execution_count": 8,
   "id": "0de1affa",
   "metadata": {},
   "outputs": [
    {
     "data": {
      "text/plain": [
       "67"
      ]
     },
     "execution_count": 8,
     "metadata": {},
     "output_type": "execute_result"
    }
   ],
   "source": [
    "random.randrange(-90, 90, step=1)"
   ]
  },
  {
   "cell_type": "code",
   "execution_count": 9,
   "id": "50be5642",
   "metadata": {},
   "outputs": [
    {
     "data": {
      "text/plain": [
       "-60"
      ]
     },
     "execution_count": 9,
     "metadata": {},
     "output_type": "execute_result"
    }
   ],
   "source": [
    "random.randrange(-90, 90, step=3)"
   ]
  },
  {
   "cell_type": "code",
   "execution_count": 10,
   "id": "a26efa91",
   "metadata": {},
   "outputs": [
    {
     "data": {
      "text/plain": [
       "-87.86125481997402"
      ]
     },
     "execution_count": 10,
     "metadata": {},
     "output_type": "execute_result"
    }
   ],
   "source": [
    "random.uniform(-90, 90)"
   ]
  },
  {
   "cell_type": "code",
   "execution_count": 11,
   "id": "93603316",
   "metadata": {},
   "outputs": [],
   "source": [
    "# Import the NumPy module.\n",
    "import numpy as np"
   ]
  },
  {
   "cell_type": "code",
   "execution_count": 12,
   "id": "f76661a1",
   "metadata": {},
   "outputs": [
    {
     "data": {
      "text/plain": [
       "74.40237870988"
      ]
     },
     "execution_count": 12,
     "metadata": {},
     "output_type": "execute_result"
    }
   ],
   "source": [
    "np.random.uniform(-90.000, 90.000)"
   ]
  },
  {
   "cell_type": "code",
   "execution_count": 13,
   "id": "a4d8ff20",
   "metadata": {},
   "outputs": [
    {
     "data": {
      "text/plain": [
       "10.639139799250572"
      ]
     },
     "execution_count": 13,
     "metadata": {},
     "output_type": "execute_result"
    }
   ],
   "source": [
    "np.random.uniform(low=-90, high=90)"
   ]
  },
  {
   "cell_type": "code",
   "execution_count": 14,
   "id": "8217e929",
   "metadata": {},
   "outputs": [
    {
     "data": {
      "text/plain": [
       "array([-3.77268700e+01, -8.87471271e+01,  1.59102473e+01, -6.03963252e+01,\n",
       "       -3.85693247e+01,  7.79106726e+01,  3.93335360e+01, -6.14656963e+01,\n",
       "       -4.83375548e+00,  6.28695586e+01, -7.26152483e+01,  7.57335898e+01,\n",
       "        6.22468412e+01, -6.25173615e+01, -6.66296255e+01,  5.88704204e+01,\n",
       "       -2.03859247e+01, -3.36251575e-02, -8.04492606e+01,  4.80402412e+01,\n",
       "       -5.89034146e+01, -2.94303852e+01,  6.07800296e+01, -3.56609535e+00,\n",
       "       -3.21961350e+01,  7.36130333e+01, -6.31654962e+01, -4.58147393e+01,\n",
       "       -4.92733869e+00,  4.70032087e+01, -3.49333726e+01,  1.09360147e+01,\n",
       "        7.38377100e+01, -8.68956110e+00, -4.07218339e+01,  7.90882376e+01,\n",
       "       -5.87977872e+01, -4.93484377e+00,  4.06756703e+01,  1.19326521e+01,\n",
       "        1.49421909e+01, -6.67127955e+01,  5.22749158e+01,  3.25055361e+01,\n",
       "        5.89711351e+01,  5.51396712e+01, -5.19212747e+01, -2.24526803e+01,\n",
       "        8.31963944e+01,  5.93989402e+00])"
      ]
     },
     "execution_count": 14,
     "metadata": {},
     "output_type": "execute_result"
    }
   ],
   "source": [
    "np.random.uniform(-90.000, 90.000, size=50)"
   ]
  },
  {
   "cell_type": "code",
   "execution_count": 15,
   "id": "ea1d1abf",
   "metadata": {},
   "outputs": [],
   "source": [
    "# Import timeit.\n",
    "import timeit"
   ]
  },
  {
   "cell_type": "code",
   "execution_count": 16,
   "id": "d98ece8b",
   "metadata": {},
   "outputs": [
    {
     "name": "stdout",
     "output_type": "stream",
     "text": [
      "27 µs ± 2.08 µs per loop (mean ± std. dev. of 7 runs, 10000 loops each)\n"
     ]
    }
   ],
   "source": [
    "%timeit np.random.uniform(-90.000, 90.000, size=1500)"
   ]
  },
  {
   "cell_type": "code",
   "execution_count": 17,
   "id": "dd00037e",
   "metadata": {},
   "outputs": [
    {
     "name": "stdout",
     "output_type": "stream",
     "text": [
      "3.95 ms ± 174 µs per loop (mean ± std. dev. of 7 runs, 100 loops each)\n"
     ]
    }
   ],
   "source": [
    "def latitudes(size):\n",
    "    latitudes = []\n",
    "    x = 0\n",
    "    while x < (size):\n",
    "        random_lat = random.randint(-90, 90) + random.random()\n",
    "        latitudes.append(random_lat)\n",
    "        x += 1\n",
    "    return latitudes\n",
    "# Call the function with 1500.\n",
    "%timeit latitudes(1500)"
   ]
  },
  {
   "cell_type": "code",
   "execution_count": null,
   "id": "627c56fc",
   "metadata": {},
   "outputs": [],
   "source": []
  }
 ],
 "metadata": {
  "kernelspec": {
   "display_name": "PythonData",
   "language": "python",
   "name": "pythondata"
  },
  "language_info": {
   "codemirror_mode": {
    "name": "ipython",
    "version": 3
   },
   "file_extension": ".py",
   "mimetype": "text/x-python",
   "name": "python",
   "nbconvert_exporter": "python",
   "pygments_lexer": "ipython3",
   "version": "3.7.10"
  }
 },
 "nbformat": 4,
 "nbformat_minor": 5
}
